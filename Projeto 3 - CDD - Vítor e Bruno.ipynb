{
 "cells": [
  {
   "cell_type": "markdown",
   "metadata": {},
   "source": [
    "# Projeto 3 - Ciência dos Dados\n",
    "\n",
    "### Bruno Winik e Vitor Marques\n",
    "\n",
    "### Análise e predição de uma variável a partir de um dataset\n",
    "\n",
    "#####  <font color=blue>Dataset escolhido:</font> \n",
    "**Heart Disease Data Set** (UCI Machine Learning respository)\n",
    "##### <font color=blue>Modelo adotado:</font>\n",
    "**Regressâo logística**\n",
    "\n",
    "###### Introdução:\n",
    "No projeto 3 de Ciência dos Dados iremos fazer a predição da chance de ocorrer doença cardíaca em pacientes de diferentes idades e com diferentes características a partir de um dataset adquirido a partir do site da UCI. Tal dataset possui dados como idade, gênero, nível de colesterol, tipos de dores no tórax, pressão sanguínea e etc. Para prever o chance de doença cardíaca (variável categórica) a partir destas variáveis (explicativas ou categóricas), utilizaremos uma técnica de regressão logística(ou múltipla), que consiste na criação de um modelo linear de predição de uma variável categórica a partir de uma ou mais variáveis."
   ]
  },
  {
   "cell_type": "code",
   "execution_count": 12,
   "metadata": {},
   "outputs": [],
   "source": [
    "#Importando as bibliotecas necessárias\n",
    "%matplotlib inline\n",
    "import pandas as pd\n",
    "import numpy as np\n",
    "import math as math\n",
    "import matplotlib.pyplot as plt"
   ]
  },
  {
   "cell_type": "code",
   "execution_count": 14,
   "metadata": {},
   "outputs": [],
   "source": [
    "#Vamos atribuir o dataset a uma variável\n",
    "Heart = pd.read_csv('Projeto 3 CDD.txt')"
   ]
  },
  {
   "cell_type": "code",
   "execution_count": 17,
   "metadata": {},
   "outputs": [],
   "source": [
    "#Vamos retirar os dados nulos\n",
    "Heart=Heart.dropna()\n"
   ]
  },
  {
   "cell_type": "code",
   "execution_count": 18,
   "metadata": {},
   "outputs": [],
   "source": [
    "#A partir do modelo de regressão logística, vamos limpar o dataset e deixá-lo somente com as variáveis de interesse\n"
   ]
  },
  {
   "cell_type": "code",
   "execution_count": null,
   "metadata": {},
   "outputs": [],
   "source": []
  },
  {
   "cell_type": "code",
   "execution_count": null,
   "metadata": {},
   "outputs": [],
   "source": []
  }
 ],
 "metadata": {
  "kernelspec": {
   "display_name": "Python 3",
   "language": "python",
   "name": "python3"
  },
  "language_info": {
   "codemirror_mode": {
    "name": "ipython",
    "version": 3
   },
   "file_extension": ".py",
   "mimetype": "text/x-python",
   "name": "python",
   "nbconvert_exporter": "python",
   "pygments_lexer": "ipython3",
   "version": "3.6.4"
  }
 },
 "nbformat": 4,
 "nbformat_minor": 2
}
