{
 "cells": [
  {
   "cell_type": "markdown",
   "metadata": {},
   "source": [
    "# Análise final - Regressão Logística"
   ]
  },
  {
   "cell_type": "markdown",
   "metadata": {},
   "source": [
    "## Nome dos intregrantes do grupo:\n",
    "-  **Bruno Leon Winik**\n",
    "\n",
    "-  **Vítor Calcete Marques**"
   ]
  },
  {
   "cell_type": "markdown",
   "metadata": {},
   "source": [
    "### Descrição do projeto:\n",
    "O projeto 3 de Ciência dos Dados consiste na criação de um modelo preditivo para um Dataset a ser escolhido pela dupla. Após a escolha do Dataset, os integrantes irão iniciar o projeto com uma análise exploratória, afim de analisar a correlação entre as variáveis e os seus outliers. Assim que finalizada a análise exploratória, há uma preparação do Dataset para a regressão: Fizemos a transformação de variáveis categóricas em categóricas binárias, já que não é possível regredir variáveis categóricas que não sejam de \"sim ou não\". Além disso, devemos também separar o Dataset em \"treinamento\" e \"teste\", para treinarmos e testarmos o modelo. Vamos para o código:\n",
    "\n"
   ]
  },
  {
   "cell_type": "markdown",
   "metadata": {},
   "source": [
    "## Inicialmente, vamos importar todas as bibliotecas necessárias para a criação do modelo"
   ]
  },
  {
   "cell_type": "code",
   "execution_count": 2,
   "metadata": {},
   "outputs": [
    {
     "name": "stderr",
     "output_type": "stream",
     "text": [
      "C:\\Users\\vitor\\Anaconda3\\lib\\site-packages\\statsmodels\\compat\\pandas.py:56: FutureWarning: The pandas.core.datetools module is deprecated and will be removed in a future version. Please use the pandas.tseries module instead.\n",
      "  from pandas.core import datetools\n"
     ]
    }
   ],
   "source": [
    "%matplotlib notebook\n",
    "%reset -f\n",
    "%matplotlib inline\n",
    "\n",
    "import seaborn as sns\n",
    "\n",
    "sns.set(style=\"white\", font_scale=0.9)\n",
    "\n",
    "import pandas as pd\n",
    "import numpy as np\n",
    "from scipy.stats import norm, probplot\n",
    "import statsmodels.api as sm\n",
    "import matplotlib.pyplot as plt\n",
    "from mpl_toolkits.mplot3d import Axes3D\n",
    "from pandas.core import datetools\n",
    "\n",
    "RANDOM_SEED = 10\n",
    "\n",
    "np.random.seed(RANDOM_SEED)"
   ]
  },
  {
   "cell_type": "markdown",
   "metadata": {},
   "source": [
    "## Vamos agora limpar o Dataset"
   ]
  },
  {
   "cell_type": "code",
   "execution_count": 21,
   "metadata": {},
   "outputs": [
    {
     "data": {
      "text/html": [
       "<div>\n",
       "<style scoped>\n",
       "    .dataframe tbody tr th:only-of-type {\n",
       "        vertical-align: middle;\n",
       "    }\n",
       "\n",
       "    .dataframe tbody tr th {\n",
       "        vertical-align: top;\n",
       "    }\n",
       "\n",
       "    .dataframe thead th {\n",
       "        text-align: right;\n",
       "    }\n",
       "</style>\n",
       "<table border=\"1\" class=\"dataframe\">\n",
       "  <thead>\n",
       "    <tr style=\"text-align: right;\">\n",
       "      <th></th>\n",
       "      <th>Age</th>\n",
       "      <th>Sex</th>\n",
       "      <th>Cp</th>\n",
       "      <th>Trestbps</th>\n",
       "      <th>Chol</th>\n",
       "      <th>Fbs</th>\n",
       "      <th>Restecg</th>\n",
       "      <th>Thalach</th>\n",
       "      <th>Exang</th>\n",
       "      <th>Oldspeak</th>\n",
       "      <th>Slope</th>\n",
       "      <th>Ca</th>\n",
       "      <th>Tha</th>\n",
       "      <th>Num</th>\n",
       "    </tr>\n",
       "  </thead>\n",
       "  <tbody>\n",
       "    <tr>\n",
       "      <th>205</th>\n",
       "      <td>47</td>\n",
       "      <td>1</td>\n",
       "      <td>4</td>\n",
       "      <td>150.0</td>\n",
       "      <td>226.0</td>\n",
       "      <td>0.0</td>\n",
       "      <td>0.0</td>\n",
       "      <td>98.0</td>\n",
       "      <td>1.0</td>\n",
       "      <td>1.5</td>\n",
       "      <td>2.0</td>\n",
       "      <td>0.0</td>\n",
       "      <td>7.0</td>\n",
       "      <td>1</td>\n",
       "    </tr>\n",
       "    <tr>\n",
       "      <th>294</th>\n",
       "      <td>63</td>\n",
       "      <td>1</td>\n",
       "      <td>1</td>\n",
       "      <td>145.0</td>\n",
       "      <td>233.0</td>\n",
       "      <td>1.0</td>\n",
       "      <td>2.0</td>\n",
       "      <td>150.0</td>\n",
       "      <td>0.0</td>\n",
       "      <td>2.3</td>\n",
       "      <td>3.0</td>\n",
       "      <td>0.0</td>\n",
       "      <td>6.0</td>\n",
       "      <td>0</td>\n",
       "    </tr>\n",
       "    <tr>\n",
       "      <th>295</th>\n",
       "      <td>67</td>\n",
       "      <td>1</td>\n",
       "      <td>4</td>\n",
       "      <td>160.0</td>\n",
       "      <td>286.0</td>\n",
       "      <td>0.0</td>\n",
       "      <td>2.0</td>\n",
       "      <td>108.0</td>\n",
       "      <td>1.0</td>\n",
       "      <td>1.5</td>\n",
       "      <td>2.0</td>\n",
       "      <td>3.0</td>\n",
       "      <td>3.0</td>\n",
       "      <td>2</td>\n",
       "    </tr>\n",
       "    <tr>\n",
       "      <th>296</th>\n",
       "      <td>67</td>\n",
       "      <td>1</td>\n",
       "      <td>4</td>\n",
       "      <td>120.0</td>\n",
       "      <td>229.0</td>\n",
       "      <td>0.0</td>\n",
       "      <td>2.0</td>\n",
       "      <td>129.0</td>\n",
       "      <td>1.0</td>\n",
       "      <td>2.6</td>\n",
       "      <td>2.0</td>\n",
       "      <td>2.0</td>\n",
       "      <td>7.0</td>\n",
       "      <td>1</td>\n",
       "    </tr>\n",
       "    <tr>\n",
       "      <th>297</th>\n",
       "      <td>37</td>\n",
       "      <td>1</td>\n",
       "      <td>3</td>\n",
       "      <td>130.0</td>\n",
       "      <td>250.0</td>\n",
       "      <td>0.0</td>\n",
       "      <td>0.0</td>\n",
       "      <td>187.0</td>\n",
       "      <td>0.0</td>\n",
       "      <td>3.5</td>\n",
       "      <td>3.0</td>\n",
       "      <td>0.0</td>\n",
       "      <td>3.0</td>\n",
       "      <td>0</td>\n",
       "    </tr>\n",
       "  </tbody>\n",
       "</table>\n",
       "</div>"
      ],
      "text/plain": [
       "     Age  Sex  Cp  Trestbps   Chol  Fbs  Restecg  Thalach  Exang  Oldspeak  \\\n",
       "205   47    1   4     150.0  226.0  0.0      0.0     98.0    1.0       1.5   \n",
       "294   63    1   1     145.0  233.0  1.0      2.0    150.0    0.0       2.3   \n",
       "295   67    1   4     160.0  286.0  0.0      2.0    108.0    1.0       1.5   \n",
       "296   67    1   4     120.0  229.0  0.0      2.0    129.0    1.0       2.6   \n",
       "297   37    1   3     130.0  250.0  0.0      0.0    187.0    0.0       3.5   \n",
       "\n",
       "     Slope   Ca  Tha  Num  \n",
       "205    2.0  0.0  7.0    1  \n",
       "294    3.0  0.0  6.0    0  \n",
       "295    2.0  3.0  3.0    2  \n",
       "296    2.0  2.0  7.0    1  \n",
       "297    3.0  0.0  3.0    0  "
      ]
     },
     "execution_count": 21,
     "metadata": {},
     "output_type": "execute_result"
    }
   ],
   "source": [
    "Heart = pd.read_csv('Projeto 3 CDD.txt')\n",
    "Heart = Heart.dropna()  # Tirando os Nan do dataset \n",
    "np.sum(Heart.isnull()) # Checando se o Dataset nao tem Nan\n",
    "Heart.head()\n"
   ]
  },
  {
   "cell_type": "markdown",
   "metadata": {},
   "source": [
    "**Dicionário de dados:**\n",
    "\n",
    "\n",
    "Variável | Descrição\n",
    ":---:|---:\n",
    "Age | Idade\n",
    "Sex | Sexo\n",
    "Cp | Tipo de dor no peito\n",
    "Trestbps | Pressão sanguínea em repouso( mm Hg )\n",
    "Chol | Colestoral sérico em mg / dl\n",
    "Fbs | Glicose no sangue\n",
    "Restecg | Resultados eletrocardiográficos\n",
    "Thalach | Frequência cardíaca máxima atingida\n",
    "Exang | Angina induzida por exercício\n",
    "Oldspeak | Depressão do segmento ST induzida pelo exercício em relação ao repouso\n",
    "Slope | Inclinação do segmento ST de pico do exercício\n",
    "Ca | Número de vasos saguineos principais\n",
    "Tha | Talassemia\n",
    "Num | Diagnóstico de doença cardíaca\n",
    "\n"
   ]
  },
  {
   "cell_type": "markdown",
   "metadata": {},
   "source": [
    "## Análise descritiva dos dados "
   ]
  },
  {
   "cell_type": "code",
   "execution_count": 22,
   "metadata": {},
   "outputs": [
    {
     "data": {
      "text/html": [
       "<div>\n",
       "<style scoped>\n",
       "    .dataframe tbody tr th:only-of-type {\n",
       "        vertical-align: middle;\n",
       "    }\n",
       "\n",
       "    .dataframe tbody tr th {\n",
       "        vertical-align: top;\n",
       "    }\n",
       "\n",
       "    .dataframe thead th {\n",
       "        text-align: right;\n",
       "    }\n",
       "</style>\n",
       "<table border=\"1\" class=\"dataframe\">\n",
       "  <thead>\n",
       "    <tr style=\"text-align: right;\">\n",
       "      <th></th>\n",
       "      <th>Age</th>\n",
       "      <th>Sex</th>\n",
       "      <th>Cp</th>\n",
       "      <th>Trestbps</th>\n",
       "      <th>Chol</th>\n",
       "      <th>Fbs</th>\n",
       "      <th>Restecg</th>\n",
       "      <th>Thalach</th>\n",
       "      <th>Exang</th>\n",
       "      <th>Oldspeak</th>\n",
       "      <th>Slope</th>\n",
       "      <th>Ca</th>\n",
       "      <th>Tha</th>\n",
       "      <th>Num</th>\n",
       "    </tr>\n",
       "  </thead>\n",
       "  <tbody>\n",
       "    <tr>\n",
       "      <th>count</th>\n",
       "      <td>299.000000</td>\n",
       "      <td>299.00000</td>\n",
       "      <td>299.000000</td>\n",
       "      <td>299.000000</td>\n",
       "      <td>299.000000</td>\n",
       "      <td>299.000000</td>\n",
       "      <td>299.000000</td>\n",
       "      <td>299.000000</td>\n",
       "      <td>299.000000</td>\n",
       "      <td>299.000000</td>\n",
       "      <td>299.000000</td>\n",
       "      <td>299.000000</td>\n",
       "      <td>299.000000</td>\n",
       "      <td>299.000000</td>\n",
       "    </tr>\n",
       "    <tr>\n",
       "      <th>mean</th>\n",
       "      <td>54.521739</td>\n",
       "      <td>0.67893</td>\n",
       "      <td>3.163880</td>\n",
       "      <td>131.715719</td>\n",
       "      <td>246.785953</td>\n",
       "      <td>0.143813</td>\n",
       "      <td>0.989967</td>\n",
       "      <td>149.327759</td>\n",
       "      <td>0.331104</td>\n",
       "      <td>1.058528</td>\n",
       "      <td>1.605351</td>\n",
       "      <td>0.672241</td>\n",
       "      <td>4.745819</td>\n",
       "      <td>0.946488</td>\n",
       "    </tr>\n",
       "    <tr>\n",
       "      <th>std</th>\n",
       "      <td>9.030264</td>\n",
       "      <td>0.46767</td>\n",
       "      <td>0.964069</td>\n",
       "      <td>17.747751</td>\n",
       "      <td>52.532582</td>\n",
       "      <td>0.351488</td>\n",
       "      <td>0.994903</td>\n",
       "      <td>23.121062</td>\n",
       "      <td>0.471399</td>\n",
       "      <td>1.162769</td>\n",
       "      <td>0.616962</td>\n",
       "      <td>0.937438</td>\n",
       "      <td>1.940977</td>\n",
       "      <td>1.230409</td>\n",
       "    </tr>\n",
       "    <tr>\n",
       "      <th>min</th>\n",
       "      <td>29.000000</td>\n",
       "      <td>0.00000</td>\n",
       "      <td>1.000000</td>\n",
       "      <td>94.000000</td>\n",
       "      <td>100.000000</td>\n",
       "      <td>0.000000</td>\n",
       "      <td>0.000000</td>\n",
       "      <td>71.000000</td>\n",
       "      <td>0.000000</td>\n",
       "      <td>0.000000</td>\n",
       "      <td>1.000000</td>\n",
       "      <td>0.000000</td>\n",
       "      <td>3.000000</td>\n",
       "      <td>0.000000</td>\n",
       "    </tr>\n",
       "    <tr>\n",
       "      <th>25%</th>\n",
       "      <td>48.000000</td>\n",
       "      <td>0.00000</td>\n",
       "      <td>3.000000</td>\n",
       "      <td>120.000000</td>\n",
       "      <td>211.000000</td>\n",
       "      <td>0.000000</td>\n",
       "      <td>0.000000</td>\n",
       "      <td>132.500000</td>\n",
       "      <td>0.000000</td>\n",
       "      <td>0.000000</td>\n",
       "      <td>1.000000</td>\n",
       "      <td>0.000000</td>\n",
       "      <td>3.000000</td>\n",
       "      <td>0.000000</td>\n",
       "    </tr>\n",
       "    <tr>\n",
       "      <th>50%</th>\n",
       "      <td>56.000000</td>\n",
       "      <td>1.00000</td>\n",
       "      <td>3.000000</td>\n",
       "      <td>130.000000</td>\n",
       "      <td>242.000000</td>\n",
       "      <td>0.000000</td>\n",
       "      <td>1.000000</td>\n",
       "      <td>152.000000</td>\n",
       "      <td>0.000000</td>\n",
       "      <td>0.800000</td>\n",
       "      <td>2.000000</td>\n",
       "      <td>0.000000</td>\n",
       "      <td>3.000000</td>\n",
       "      <td>0.000000</td>\n",
       "    </tr>\n",
       "    <tr>\n",
       "      <th>75%</th>\n",
       "      <td>61.000000</td>\n",
       "      <td>1.00000</td>\n",
       "      <td>4.000000</td>\n",
       "      <td>140.000000</td>\n",
       "      <td>275.500000</td>\n",
       "      <td>0.000000</td>\n",
       "      <td>2.000000</td>\n",
       "      <td>165.500000</td>\n",
       "      <td>1.000000</td>\n",
       "      <td>1.600000</td>\n",
       "      <td>2.000000</td>\n",
       "      <td>1.000000</td>\n",
       "      <td>7.000000</td>\n",
       "      <td>2.000000</td>\n",
       "    </tr>\n",
       "    <tr>\n",
       "      <th>max</th>\n",
       "      <td>77.000000</td>\n",
       "      <td>1.00000</td>\n",
       "      <td>4.000000</td>\n",
       "      <td>200.000000</td>\n",
       "      <td>564.000000</td>\n",
       "      <td>1.000000</td>\n",
       "      <td>2.000000</td>\n",
       "      <td>202.000000</td>\n",
       "      <td>1.000000</td>\n",
       "      <td>6.200000</td>\n",
       "      <td>3.000000</td>\n",
       "      <td>3.000000</td>\n",
       "      <td>7.000000</td>\n",
       "      <td>4.000000</td>\n",
       "    </tr>\n",
       "  </tbody>\n",
       "</table>\n",
       "</div>"
      ],
      "text/plain": [
       "              Age        Sex          Cp    Trestbps        Chol         Fbs  \\\n",
       "count  299.000000  299.00000  299.000000  299.000000  299.000000  299.000000   \n",
       "mean    54.521739    0.67893    3.163880  131.715719  246.785953    0.143813   \n",
       "std      9.030264    0.46767    0.964069   17.747751   52.532582    0.351488   \n",
       "min     29.000000    0.00000    1.000000   94.000000  100.000000    0.000000   \n",
       "25%     48.000000    0.00000    3.000000  120.000000  211.000000    0.000000   \n",
       "50%     56.000000    1.00000    3.000000  130.000000  242.000000    0.000000   \n",
       "75%     61.000000    1.00000    4.000000  140.000000  275.500000    0.000000   \n",
       "max     77.000000    1.00000    4.000000  200.000000  564.000000    1.000000   \n",
       "\n",
       "          Restecg     Thalach       Exang    Oldspeak       Slope          Ca  \\\n",
       "count  299.000000  299.000000  299.000000  299.000000  299.000000  299.000000   \n",
       "mean     0.989967  149.327759    0.331104    1.058528    1.605351    0.672241   \n",
       "std      0.994903   23.121062    0.471399    1.162769    0.616962    0.937438   \n",
       "min      0.000000   71.000000    0.000000    0.000000    1.000000    0.000000   \n",
       "25%      0.000000  132.500000    0.000000    0.000000    1.000000    0.000000   \n",
       "50%      1.000000  152.000000    0.000000    0.800000    2.000000    0.000000   \n",
       "75%      2.000000  165.500000    1.000000    1.600000    2.000000    1.000000   \n",
       "max      2.000000  202.000000    1.000000    6.200000    3.000000    3.000000   \n",
       "\n",
       "              Tha         Num  \n",
       "count  299.000000  299.000000  \n",
       "mean     4.745819    0.946488  \n",
       "std      1.940977    1.230409  \n",
       "min      3.000000    0.000000  \n",
       "25%      3.000000    0.000000  \n",
       "50%      3.000000    0.000000  \n",
       "75%      7.000000    2.000000  \n",
       "max      7.000000    4.000000  "
      ]
     },
     "execution_count": 22,
     "metadata": {},
     "output_type": "execute_result"
    }
   ],
   "source": [
    "Heart.describe()"
   ]
  },
  {
   "cell_type": "markdown",
   "metadata": {},
   "source": [
    "Para a análise correlativa, utilizaremos apenas as variáveis quantitativas:"
   ]
  },
  {
   "cell_type": "code",
   "execution_count": 23,
   "metadata": {},
   "outputs": [
    {
     "data": {
      "text/html": [
       "<div>\n",
       "<style scoped>\n",
       "    .dataframe tbody tr th:only-of-type {\n",
       "        vertical-align: middle;\n",
       "    }\n",
       "\n",
       "    .dataframe tbody tr th {\n",
       "        vertical-align: top;\n",
       "    }\n",
       "\n",
       "    .dataframe thead th {\n",
       "        text-align: right;\n",
       "    }\n",
       "</style>\n",
       "<table border=\"1\" class=\"dataframe\">\n",
       "  <thead>\n",
       "    <tr style=\"text-align: right;\">\n",
       "      <th></th>\n",
       "      <th>Age</th>\n",
       "      <th>Trestbps</th>\n",
       "      <th>Chol</th>\n",
       "      <th>Thalach</th>\n",
       "      <th>Oldspeak</th>\n",
       "    </tr>\n",
       "  </thead>\n",
       "  <tbody>\n",
       "    <tr>\n",
       "      <th>Age</th>\n",
       "      <td>1.000000</td>\n",
       "      <td>0.286149</td>\n",
       "      <td>0.199258</td>\n",
       "      <td>-0.384176</td>\n",
       "      <td>0.195929</td>\n",
       "    </tr>\n",
       "    <tr>\n",
       "      <th>Trestbps</th>\n",
       "      <td>0.286149</td>\n",
       "      <td>1.000000</td>\n",
       "      <td>0.134240</td>\n",
       "      <td>-0.053320</td>\n",
       "      <td>0.191144</td>\n",
       "    </tr>\n",
       "    <tr>\n",
       "      <th>Chol</th>\n",
       "      <td>0.199258</td>\n",
       "      <td>0.134240</td>\n",
       "      <td>1.000000</td>\n",
       "      <td>0.014894</td>\n",
       "      <td>0.033964</td>\n",
       "    </tr>\n",
       "    <tr>\n",
       "      <th>Thalach</th>\n",
       "      <td>-0.384176</td>\n",
       "      <td>-0.053320</td>\n",
       "      <td>0.014894</td>\n",
       "      <td>1.000000</td>\n",
       "      <td>-0.348089</td>\n",
       "    </tr>\n",
       "    <tr>\n",
       "      <th>Oldspeak</th>\n",
       "      <td>0.195929</td>\n",
       "      <td>0.191144</td>\n",
       "      <td>0.033964</td>\n",
       "      <td>-0.348089</td>\n",
       "      <td>1.000000</td>\n",
       "    </tr>\n",
       "  </tbody>\n",
       "</table>\n",
       "</div>"
      ],
      "text/plain": [
       "               Age  Trestbps      Chol   Thalach  Oldspeak\n",
       "Age       1.000000  0.286149  0.199258 -0.384176  0.195929\n",
       "Trestbps  0.286149  1.000000  0.134240 -0.053320  0.191144\n",
       "Chol      0.199258  0.134240  1.000000  0.014894  0.033964\n",
       "Thalach  -0.384176 -0.053320  0.014894  1.000000 -0.348089\n",
       "Oldspeak  0.195929  0.191144  0.033964 -0.348089  1.000000"
      ]
     },
     "execution_count": 23,
     "metadata": {},
     "output_type": "execute_result"
    }
   ],
   "source": [
    "Heart[['Age','Trestbps','Chol','Thalach','Oldspeak']].corr()"
   ]
  },
  {
   "cell_type": "markdown",
   "metadata": {},
   "source": [
    "A partir da análise descritiva dos dados, podemos concluir que a maioria dos indivíduos tem entre 48 e 61 anos de idade, sendo 67% deles homens e 33% mulheres. Além disso, vemos que a taxa de colesterol no sangue dos examinados varia de 211 a 275 mg/dl. A análise de correlação nos informa que as variáveis quantitativas mais importantes são a idade, a máxima taxa de batimentos atingida e a taxa de depressão do segmento ST induzida pelo exercício em relação ao repouso. Vamos agora analisar gráficamente a relação das variáveis com a probabilidade de doença cardíaca:"
   ]
  },
  {
   "cell_type": "markdown",
   "metadata": {},
   "source": [
    "## Análise gráfica dos dados"
   ]
  },
  {
   "cell_type": "markdown",
   "metadata": {},
   "source": [
    "### Separação do Dataset para a análise gráfica de histogramas"
   ]
  },
  {
   "cell_type": "code",
   "execution_count": 26,
   "metadata": {},
   "outputs": [],
   "source": [
    "#Separação dos que provavelmente vão ter doenças cardiacas e os que provavelmente não vão ter doencas cardiaacas\n",
    "\n",
    "ProvavelmenteDoentes = Heart[Heart.Num >0]\n",
    "ProvavelmenteSaudaveis = Heart[Heart.Num <1]"
   ]
  },
  {
   "cell_type": "code",
   "execution_count": 33,
   "metadata": {},
   "outputs": [
    {
     "data": {
      "image/png": "[encoded data removed]",
      "text/plain": [
       "<matplotlib.figure.Figure at 0x252083d8240>"
      ]
     },
     "metadata": {},
     "output_type": "display_data"
    }
   ],
   "source": [
    "faixa1 = range(20,90,1)\n",
    "plot = ProvavelmenteDoentes.Age.plot.hist(bins=faixa1,label = \"Provaveis doentes\",title='HISTOGRAMA DE IDADE', color = \"blue\",density=False, figsize=(6, 6), alpha=0.5)\n",
    "plot = ProvavelmenteSaudaveis.Age.plot.hist(bins=faixa1,label = \"Provaveis saudaveis\",title='HISTOGRAMA DE IDADE', color = \"green\",density=False, figsize=(6, 6), alpha=0.5)\n",
    "plt.ylabel('Quantidade de pessoas')\n",
    "plt.xlabel('Idade')\n",
    "plt.legend()\n",
    "plt.grid(True)"
   ]
  },
  {
   "cell_type": "code",
   "execution_count": 39,
   "metadata": {},
   "outputs": [
    {
     "data": {
      "image/png": "[encoded data removed]",
      "text/plain": [
       "<matplotlib.figure.Figure at 0x252085e23c8>"
      ]
     },
     "metadata": {},
     "output_type": "display_data"
    }
   ],
   "source": [
    "faixa2 = range(90,210,10)\n",
    "plot = ProvavelmenteDoentes.Trestbps.plot.hist(bins=faixa2,label = \"Provaveis doentes\",title='HISTOGRAMA DE PRESSÃO SANGUINEA', color = \"blue\",density=False, figsize=(6, 6), alpha=0.5)\n",
    "plot = ProvavelmenteSaudaveis.Trestbps.plot.hist(bins=faixa2,label = \"Provaveis saudaveis\",title='HISTOGRAMA DE PRESSÃO SANGUINEA', color = \"green\",density=False, figsize=(6, 6), alpha=0.5)\n",
    "plt.ylabel('Quantidade de pessoas')\n",
    "plt.xlabel('Pressão sanguinea em mmHg')\n",
    "plt.legend()\n",
    "plt.grid(True)"
   ]
  },
  {
   "cell_type": "code",
   "execution_count": 42,
   "metadata": {},
   "outputs": [
    {
     "data": {
      "image/png": "[encoded data removed]",
      "text/plain": [
       "<matplotlib.figure.Figure at 0x25207adfd68>"
      ]
     },
     "metadata": {},
     "output_type": "display_data"
    }
   ],
   "source": [
    "faixa3 = range(90,430,10)\n",
    "plot = ProvavelmenteDoentes.Chol.plot.hist(bins=faixa3,label = \"Provaveis doentes\",title='HISTOGRAMA DE COLESTEROL', color = \"blue\",density=False, figsize=(6, 6), alpha=0.5)\n",
    "plot = ProvavelmenteSaudaveis.Chol.plot.hist(bins=faixa3,label = \"Provaveis saudaveis\",title='HISTOGRAMA DE COLESTEROL', color = \"green\",density=False, figsize=(6, 6), alpha=0.5)\n",
    "plt.ylabel('Quantidade de pessoas')\n",
    "plt.legend()\n",
    "plt.xlabel('colestoral sérico em mg / dl')\n",
    "plt.grid(True)"
   ]
  },
  {
   "cell_type": "code",
   "execution_count": 45,
   "metadata": {},
   "outputs": [
    {
     "data": {
      "image/png": "[encoded data removed]",
      "text/plain": [
       "<matplotlib.figure.Figure at 0x252081ddba8>"
      ]
     },
     "metadata": {},
     "output_type": "display_data"
    }
   ],
   "source": [
    "faixa4 = range(90,200,5)\n",
    "plot = ProvavelmenteDoentes.Thalach.plot.hist(bins=faixa4,label = \"Provaveis doentes\",title='HISTOGRAMA DE FREQUÊNCIA CARDÍACA', color = \"blue\",density=False, figsize=(6, 6), alpha=0.5)\n",
    "plot = ProvavelmenteSaudaveis.Thalach.plot.hist(bins=faixa4,label = \"Provaveis saudaveis\",title='HISTOGRAMA DE FREQUÊNCIA CARDÍACA', color = \"green\",density=False, figsize=(6, 6), alpha=0.5)\n",
    "plt.ylabel('Quantidade de pessoas')\n",
    "plt.xlabel('frequência cardíaca máxima atingida')\n",
    "plt.legend()\n",
    "plt.grid(True)"
   ]
  },
  {
   "cell_type": "code",
   "execution_count": 46,
   "metadata": {},
   "outputs": [
    {
     "data": {
      "image/png": "[encoded data removed]",
      "text/plain": [
       "<matplotlib.figure.Figure at 0x25207af20b8>"
      ]
     },
     "metadata": {},
     "output_type": "display_data"
    }
   ],
   "source": [
    "faixa5 = range(0,7,1)\n",
    "plot = ProvavelmenteDoentes.Oldspeak.plot.hist(bins=faixa5,label = \"Provaveis doentes\",title='HISTOGRAMA DA DEPRESSÃO DO SEGMENTO ST', color = \"blue\",density=False, figsize=(6, 6), alpha=0.5)\n",
    "plot = ProvavelmenteSaudaveis.Oldspeak.plot.hist(bins=faixa5,label = \"Provaveis saudaveis\",title='HISTOGRAMA DA DEPRESSÃO DO SEGMENTO ST', color = \"green\",density=False, figsize=(6, 6), alpha=0.5)\n",
    "plt.ylabel('Quantidade de pessoas')\n",
    "plt.legend()\n",
    "plt.xlabel('Depressão do segmento ST induzida pelo exercício em relação ao repouso')\n",
    "plt.grid(True)"
   ]
  },
  {
   "cell_type": "code",
   "execution_count": 60,
   "metadata": {},
   "outputs": [
    {
     "data": {
      "text/plain": [
       "Text(0.5,0,'número de grandes vasos no coração')"
      ]
     },
     "execution_count": 60,
     "metadata": {},
     "output_type": "execute_result"
    },
    {
     "data": {
      "image/png": "[encoded data removed]",
      "text/plain": [
       "<matplotlib.figure.Figure at 0x252085982e8>"
      ]
     },
     "metadata": {},
     "output_type": "display_data"
    }
   ],
   "source": [
    "faixa6 = range(0,4,1)\n",
    "plot = ProvavelmenteDoentes.Ca.plot.hist(bins=faixa6,label = \"Provaveis doentes\",title='HISTOGRAMA DO NÚMERO DE GRANDES VASOS NO CORAÇÃO', color = \"blue\",density=False, figsize=(6, 6), alpha=0.5)\n",
    "plot = ProvavelmenteSaudaveis.Ca.plot.hist(bins=faixa6,label = \"Provaveis saudaveis\",title='HISTOGRAMA DO NÚMERO DE GRANDES VASOS NO CORAÇÃO', color = \"green\",density=False, figsize=(6, 6), alpha=0.5)\n",
    "plt.ylabel('Quantidade de pessoas')\n",
    "plt.legend()\n",
    "plt.xlabel('número de grandes vasos no coração')"
   ]
  },
  {
   "cell_type": "markdown",
   "metadata": {},
   "source": [
    "A partir da análise gráfica dos histogramas, pode-se observar que aos 60 anos há o maior número de pessoas provavelmente doentes. Já em relação á pressão sanguínea, observa-se que não há grande diferença entre os provavelmente saudáveis e os provavelmente doentes, visto que ambos se concentram na faixa de 120 a 140 mmHg. Quanto ao colesterol, percebe-se que a grande maioria dos indivíduos provavelmente saudáveis possuem colesterol entre 200 e 250 mg/dl, diferentemente dos indivíduos provavelmente doentes, que se concentram entre 250 e 300 mg/dl. Analisando o principal histograma (mais conclusivo) dos plotados acima, percebe-se evidentemente que a frequência cardíaca máxima atingida pelos indivíduos provavelmente saudáveis é maior (entre 150 e 180 batimentos por minuto) do que a frequência máxima atingida por indivíduos provavelmente doentes (entre 105 e 145 batimentos por minuto). Em relação á taxa de depressão do segmento ST em relação ao repouso, os indivíduos provavelmente saudáveis se concentram entre 0 e 1 (assimetria á direita). Já os indivíduos provavelmente doentes têm esta taxa melhor distribuída (assimetria menor), com taxa de depressão variando de 0 a 4"
   ]
  },
  {
   "cell_type": "code",
   "execution_count": null,
   "metadata": {},
   "outputs": [],
   "source": []
  },
  {
   "cell_type": "markdown",
   "metadata": {},
   "source": [
    "# Convertendo as variáveis categóricas para categóricas binárias"
   ]
  },
  {
   "cell_type": "code",
   "execution_count": 51,
   "metadata": {},
   "outputs": [],
   "source": [
    "def dummify(data, column_name):\n",
    "    \"\"\"\n",
    "        Converte a coluna column_name em dummies / one-hot e as adiciona ao dataframe\n",
    "        retorna uma copia do  df original sem a coluna que foi dummified\n",
    "    \"\"\"\n",
    "    df = data.copy()\n",
    "    df2 = pd.concat([df.drop(column_name, axis=1), pd.get_dummies(data[column_name], prefix=column_name)], axis=1)\n",
    "    return df2"
   ]
  },
  {
   "cell_type": "code",
   "execution_count": 56,
   "metadata": {},
   "outputs": [],
   "source": [
    "Categorias = dummify(Heart, \"Sex\")\n",
    "Categorias = dummify(Categorias, \"Cp\")\n",
    "Categorias = dummify(Categorias, \"Fbs\")\n",
    "Categorias = dummify(Categorias, \"Restecg\")\n",
    "Categorias = dummify(Categorias, \"Exang\")\n",
    "Categorias = dummify(Categorias, \"Slope\")\n",
    "Categorias = dummify(Categorias, \"Tha\")\n",
    "\n",
    "\n",
    "Categorias[\"Homen\"] = Categorias.pop(\"Sex_1\")\n",
    "Categorias[\"Mulher\"] = Categorias.pop(\"Sex_0\")\n",
    "Categorias[\"Dor Anginal tipica\"] = Categorias.pop(\"Cp_1\")\n",
    "Categorias[\"Dor Anginal atipica\"] = Categorias.pop(\"Cp_2\")\n",
    "Categorias[\"Dor Não Anginal\"] = Categorias.pop(\"Cp_3\")\n",
    "Categorias[\"Dor Assintomática\"] = Categorias.pop(\"Cp_4\")\n",
    "Categorias[\"Glicose normal\"] = Categorias.pop(\"Fbs_0.0\")\n",
    "Categorias[\"Glicose alta\"] = Categorias.pop(\"Fbs_1.0\")\n",
    "Categorias[\"Eletrocardiograma normal\"] = Categorias.pop(\"Restecg_0.0\")\n",
    "Categorias[\"Eletrocardiograma anormal\"] = Categorias.pop(\"Restecg_1.0\")\n",
    "Categorias[\"Hipertrofia no ventríoculo esquerdo \"] = Categorias.pop(\"Restecg_2.0\")\n",
    "Categorias[\"Angina não induzida por exercício\"] = Categorias.pop(\"Exang_0.0\")\n",
    "Categorias[\"Angina induzida por exercício\"] = Categorias.pop(\"Exang_1.0\")\n",
    "Categorias[\"Alta inclinação no Eletrocardiograma\"] = Categorias.pop(\"Slope_1.0\")\n",
    "Categorias[\"Inclinação normal no Eletrocardiograma\"] = Categorias.pop(\"Slope_2.0\")\n",
    "Categorias[\"Baixa inclinação no Eletrocardiograma\"] = Categorias.pop(\"Slope_3.0\")\n",
    "Categorias[\"Sem talassemia\"] = Categorias.pop(\"Tha_3.0\")\n",
    "Categorias[\"Talassemia não reversivel\"] = Categorias.pop(\"Tha_6.0\")\n",
    "Categorias[\"Talassemia reversivel\"] = Categorias.pop(\"Tha_7.0\")\n",
    "#Categorias.columns"
   ]
  },
  {
   "cell_type": "code",
   "execution_count": null,
   "metadata": {},
   "outputs": [],
   "source": []
  },
  {
   "cell_type": "code",
   "execution_count": null,
   "metadata": {},
   "outputs": [],
   "source": []
  },
  {
   "cell_type": "markdown",
   "metadata": {},
   "source": [
    "# Separação do treinamento e teste do dataset"
   ]
  },
  {
   "cell_type": "code",
   "execution_count": 67,
   "metadata": {},
   "outputs": [
    {
     "data": {
      "text/plain": [
       "0.5351170568561873"
      ]
     },
     "execution_count": 67,
     "metadata": {},
     "output_type": "execute_result"
    }
   ],
   "source": [
    "Y = Categorias['Num']\n",
    "\n",
    "X = Categorias[['Age', 'Trestbps', 'Chol', 'Thalach', 'Oldspeak', 'Ca', 'Homen',\n",
    "       'Mulher', 'Dor Anginal tipica', 'Dor Anginal atipica',\n",
    "       'Dor Não Anginal', 'Dor Assintomática', 'Glicose normal',\n",
    "       'Glicose alta', 'Eletrocardiograma normal', 'Eletrocardiograma anormal',\n",
    "       'Hipertrofia no ventríoculo esquerdo ',\n",
    "       'Angina não induzida por exercício', 'Angina induzida por exercício',\n",
    "       'Alta inclinação no Eletrocardiograma',\n",
    "       'Inclinação normal no Eletrocardiograma',\n",
    "       'Baixa inclinação no Eletrocardiograma', 'Sem talassemia',\n",
    "       'Talassemia não reversivel', 'Talassemia reversivel']]\n",
    "\n",
    "\n",
    "CategoriasX_train = X[:159]\n",
    "CategoriasY_train = Y[:159]\n",
    "CategoriasX_test = X[149:]\n",
    "CategoriasY_test = Y[149:]\n",
    "\n"
   ]
  },
  {
   "cell_type": "markdown",
   "metadata": {},
   "source": [
    "# Fazendo a Regressão Logística\n",
    "\n",
    "## Porque escolhemos essa técnica estátistica de predição de valores ?\n",
    "Porque além de ser uma técnica para predizer um valor, a partir de um conjunto de observações em um modelo, permite a predição de valores categóricos.\n",
    "\n",
    "Na nossa regressão, o objetivo é predizer os valores da variável categórica Num ( Que quando maior que 0 a pessoa tem mais de 50% de chance de ter uma doença cardiaca e quando 0 tem 50% de chance de não ter uma doença cardica."
   ]
  },
  {
   "cell_type": "code",
   "execution_count": 68,
   "metadata": {},
   "outputs": [
    {
     "name": "stdout",
     "output_type": "stream",
     "text": [
      "Acurácia: 0.8080808080808081\n"
     ]
    }
   ],
   "source": [
    "from sklearn.model_selection import train_test_split\n",
    "CategoriasX_train, CategoriasX_test, CategoriasY_train, CategoriasY_test = train_test_split(X, Y > 0, test_size=0.33, random_state=RANDOM_SEED)\n",
    "\n",
    "\n",
    "from sklearn.linear_model import LogisticRegression\n",
    "from sklearn.metrics import accuracy_score\n",
    "\n",
    "\n",
    "\n",
    "model = LogisticRegression()\n",
    "model.fit(CategoriasX_train, CategoriasY_train)\n",
    "CategoriasY_pred = model.predict(CategoriasX_test)\n",
    "print('Acurácia: {}'.format(accuracy_score(CategoriasY_test, CategoriasY_pred)))"
   ]
  },
  {
   "cell_type": "markdown",
   "metadata": {},
   "source": [
    "Nossa técnica de predição obteve uma Acurácia de 80.8%, para podermos falar melhor se é uma porcentagem de acerto boa vamos compara-lá com o RandomForest da biblioteca Sklearn. \n",
    "\n",
    "\n",
    "Esse código cria um modelo que é treinado para aprender a relação entre as variavéis e a predição para poder fazer uma previsão dado as varivéis. E depois esse modelo compara as respostas que ele obteve com as respostas reais para obtermos uma porcentagem de acerto."
   ]
  },
  {
   "cell_type": "code",
   "execution_count": 69,
   "metadata": {},
   "outputs": [
    {
     "name": "stdout",
     "output_type": "stream",
     "text": [
      "Acurácia: 0.8181818181818182\n"
     ]
    }
   ],
   "source": [
    "from sklearn.ensemble import RandomForestClassifier\n",
    "\n",
    "\n",
    "model = RandomForestClassifier(random_state=RANDOM_SEED)\n",
    "model.fit(CategoriasX_train, CategoriasY_train)\n",
    "y_pred = model.predict(CategoriasX_test)\n",
    "print('Acurácia: {}'.format(accuracy_score(CategoriasY_test, y_pred)))"
   ]
  },
  {
   "cell_type": "markdown",
   "metadata": {},
   "source": [
    "Com o RandomForestClassifier conseguimos atingir uma acurácia de 81.81% e no nosso modelo atingimos 80.8% .\n",
    "\n",
    "Com modelo criado, treinado e testado obtivemos uma acurácia de 80.80% , para conseguirmos qualificar essa análise usamos o modúlo RandomForestClassifier, um modelo que aleatoriamente estima e se ajusta a vários classificadores e usa a média deles para melhorar a precisão da previsão. O RandomForestClassifier obteve 81.81% então com esse resultado podemos concluir que o nosso modelo é um bom modelo visto que comparado com o modelo do RandomForestClassifier houve apenas uma diferença de 1.01%"
   ]
  },
  {
   "cell_type": "markdown",
   "metadata": {},
   "source": [
    "## Análise da importância das variavéis"
   ]
  },
  {
   "cell_type": "code",
   "execution_count": 73,
   "metadata": {},
   "outputs": [
    {
     "data": {
      "text/html": [
       "<div>\n",
       "<style scoped>\n",
       "    .dataframe tbody tr th:only-of-type {\n",
       "        vertical-align: middle;\n",
       "    }\n",
       "\n",
       "    .dataframe tbody tr th {\n",
       "        vertical-align: top;\n",
       "    }\n",
       "\n",
       "    .dataframe thead th {\n",
       "        text-align: right;\n",
       "    }\n",
       "</style>\n",
       "<table border=\"1\" class=\"dataframe\">\n",
       "  <thead>\n",
       "    <tr style=\"text-align: right;\">\n",
       "      <th></th>\n",
       "      <th>Importância relativa</th>\n",
       "    </tr>\n",
       "    <tr>\n",
       "      <th>Legenda</th>\n",
       "      <th></th>\n",
       "    </tr>\n",
       "  </thead>\n",
       "  <tbody>\n",
       "    <tr>\n",
       "      <th>Ca</th>\n",
       "      <td>0.168392</td>\n",
       "    </tr>\n",
       "    <tr>\n",
       "      <th>Oldspeak</th>\n",
       "      <td>0.122595</td>\n",
       "    </tr>\n",
       "    <tr>\n",
       "      <th>Dor Não Anginal</th>\n",
       "      <td>0.087102</td>\n",
       "    </tr>\n",
       "    <tr>\n",
       "      <th>Thalach</th>\n",
       "      <td>0.086095</td>\n",
       "    </tr>\n",
       "    <tr>\n",
       "      <th>Chol</th>\n",
       "      <td>0.074826</td>\n",
       "    </tr>\n",
       "    <tr>\n",
       "      <th>Age</th>\n",
       "      <td>0.065968</td>\n",
       "    </tr>\n",
       "    <tr>\n",
       "      <th>Baixa inclinação no Eletrocardiograma</th>\n",
       "      <td>0.055988</td>\n",
       "    </tr>\n",
       "    <tr>\n",
       "      <th>Trestbps</th>\n",
       "      <td>0.042170</td>\n",
       "    </tr>\n",
       "    <tr>\n",
       "      <th>Talassemia não reversivel</th>\n",
       "      <td>0.041488</td>\n",
       "    </tr>\n",
       "    <tr>\n",
       "      <th>Alta inclinação no Eletrocardiograma</th>\n",
       "      <td>0.036487</td>\n",
       "    </tr>\n",
       "  </tbody>\n",
       "</table>\n",
       "</div>"
      ],
      "text/plain": [
       "                                       Importância relativa\n",
       "Legenda                                                    \n",
       "Ca                                                 0.168392\n",
       "Oldspeak                                           0.122595\n",
       "Dor Não Anginal                                    0.087102\n",
       "Thalach                                            0.086095\n",
       "Chol                                               0.074826\n",
       "Age                                                0.065968\n",
       "Baixa inclinação no Eletrocardiograma              0.055988\n",
       "Trestbps                                           0.042170\n",
       "Talassemia não reversivel                          0.041488\n",
       "Alta inclinação no Eletrocardiograma               0.036487"
      ]
     },
     "execution_count": 73,
     "metadata": {},
     "output_type": "execute_result"
    }
   ],
   "source": [
    "data=model.feature_importances_\n",
    "data2 = np.array(['Age', 'Trestbps', 'Chol', 'Thalach', 'Oldspeak', 'Ca', 'Num ', 'Homen',\n",
    "       'Mulher', 'Dor Anginal tipica', 'Dor Anginal atipica',\n",
    "       'Dor Não Anginal', 'Dor Assintomática', 'Glicose normal',\n",
    "       'Glicose alta', 'Eletrocardiograma normal', 'Eletrocardiograma anormal',\n",
    "       'Hipertrofia no ventríoculo esquerdo ',\n",
    "       'Angina não induzida por exercício', 'Angina induzida por exercício',\n",
    "       'Alta inclinação no Eletrocardiograma',\n",
    "       'Inclinação normal no Eletrocardiograma',\n",
    "       'Baixa inclinação no Eletrocardiograma', 'Sem talassemia',\n",
    "       'Talassemia não reversivel', 'Talassemia reversivel'])\n",
    "\n",
    "\n",
    "\n",
    "\n",
    "dataset = pd.DataFrame({'Column1':data})\n",
    "dataset['Importância relativa']=dataset.pop('Column1')\n",
    "dataset\n",
    "\n",
    "dataset2 = pd.DataFrame({\"Legenda\":data2})\n",
    "dataset2\n",
    "\n",
    "dataset=dataset.join(dataset2,how='inner')\n",
    "dataset=dataset.set_index(\"Legenda\")\n",
    "dataset=dataset.sort_values(by = \"Importância relativa\", ascending=False)\n",
    "dataset.head(10)"
   ]
  },
  {
   "cell_type": "code",
   "execution_count": null,
   "metadata": {},
   "outputs": [],
   "source": []
  }
 ],
 "metadata": {
  "kernelspec": {
   "display_name": "Python 3",
   "language": "python",
   "name": "python3"
  },
  "language_info": {
   "codemirror_mode": {
    "name": "ipython",
    "version": 3
   },
   "file_extension": ".py",
   "mimetype": "text/x-python",
   "name": "python",
   "nbconvert_exporter": "python",
   "pygments_lexer": "ipython3",
   "version": "3.6.4"
  }
 },
 "nbformat": 4,
 "nbformat_minor": 2
}
